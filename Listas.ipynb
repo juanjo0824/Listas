{
  "nbformat": 4,
  "nbformat_minor": 0,
  "metadata": {
    "colab": {
      "provenance": [],
      "authorship_tag": "ABX9TyPYzwtCgM+96ZAonUQsLDze",
      "include_colab_link": true
    },
    "kernelspec": {
      "name": "python3",
      "display_name": "Python 3"
    },
    "language_info": {
      "name": "python"
    }
  },
  "cells": [
    {
      "cell_type": "markdown",
      "metadata": {
        "id": "view-in-github",
        "colab_type": "text"
      },
      "source": [
        "<a href=\"https://colab.research.google.com/github/juanjo0824/Listas/blob/main/Listas.ipynb\" target=\"_parent\"><img src=\"https://colab.research.google.com/assets/colab-badge.svg\" alt=\"Open In Colab\"/></a>"
      ]
    },
    {
      "cell_type": "markdown",
      "source": [
        "# Listas\n",
        "- Una lista hace referecia a una coleccion de datos que pueden ser numero,cadenas o algun otro tipo.\n",
        "\n",
        "- Son colecciones ordenadas de datos que importa el orden en el cual se encuentran sus elementos.\n",
        "- El primer elemento ocupa la posicion 0, y el segundo 1 y asi sucesivamente.\n",
        "- son mutables: una vez creada la lista, esto puede modificarsees decir se puede agregar o quitar elementos\n",
        "- En phyton estan representadas en tipo ***list*** y para definirlas se utiliza la  siguiente sintaxis\n",
        "```nombre_lista = [valor1, valor2,..., valorn]```\n",
        "\n",
        "- Los elementos pueden ser de cualquier tipo, incluso puede haber tipos diferentes en una misma lista.\n",
        "- Tambien es posible crear usando el constructor ```list()```."
      ],
      "metadata": {
        "id": "RK4GF_JKCtfq"
      }
    },
    {
      "cell_type": "code",
      "source": [
        " # Ejemplo 1\n",
        "\n",
        " # =========================================================\n",
        " # Usando los [] y dando valores para inicializar las listas\n",
        " # =========================================================\n",
        "\n",
        " dias_laborales = [\"Lunes\", \"Martes\", \"Miercoles\", \"Jueves\", \"Viernes\"]\n",
        " print(dias_laborales)\n",
        "\n",
        "colores_primarios = [\"Rojo\", \"Amarillo\", \"Azul\"]\n",
        " print(colores_primarios)\n",
        "\n",
        "precios = [205.30, 107.18, 25, 450, 310.89, 170.23, 340]\n",
        "print(precios)\n",
        "print(type(precios))\n",
        "mescolanza = [12, 'óctubre', 1492, True]\n",
        "lista_vacia = []\n",
        "\n",
        "# ==============================================\n",
        "# Usando el constrcutor list()\n",
        "#===============================================\n",
        "lista_vacia_2 = list()\n",
        "lista_3 = list(range(0,30,2))\n",
        "print(lista_3)\n",
        "lista_4 = list(range(29,0,-2))\n",
        "print(lista_4)\n",
        "lista_5 = list('Juan Jose')\n",
        "print(lista_5)\n",
        "frase = 'Juan Jose Delgado Benitez'\n",
        "lista_6 = frase.split()\n",
        "print(lista_6)\n"
      ],
      "metadata": {
        "colab": {
          "base_uri": "https://localhost:8080/"
        },
        "collapsed": true,
        "id": "GtZ5fdFdHWPC",
        "outputId": "ed43ddf4-54a0-47c2-a7fe-10db435b7fb9"
      },
      "execution_count": 7,
      "outputs": [
        {
          "output_type": "stream",
          "name": "stdout",
          "text": [
            "['Lunes', 'Martes', 'Miercoles', 'Jueves', 'Viernes']\n",
            "['Rojo', 'Amarillo', 'Azul']\n",
            "[205.3, 107.18, 25, 450, 310.89, 170.23, 340]\n",
            "<class 'list'>\n",
            "[0, 2, 4, 6, 8, 10, 12, 14, 16, 18, 20, 22, 24, 26, 28]\n",
            "[29, 27, 25, 23, 21, 19, 17, 15, 13, 11, 9, 7, 5, 3, 1]\n",
            "['J', 'u', 'a', 'n', ' ', 'J', 'o', 's', 'e']\n",
            "['Juan', 'Jose', 'Delgado', 'Benitez']\n"
          ]
        }
      ]
    },
    {
      "cell_type": "markdown",
      "source": [
        "# Operaciones\n",
        "# Operador +\n",
        " - Concatenar o pegar los elementos de una lista al final de otra.\n",
        " # Operador *\n",
        " - Repetir la secuencia de los elementos de la lista tantas veces como lo indique el valor que acompaña al operador."
      ],
      "metadata": {
        "id": "aS5rSu4lSTVk"
      }
    },
    {
      "cell_type": "code",
      "source": [
        "dias_laborales = [\"Lunes\", \"Martes\", \"Miercoles\", \"Jueves\", \"Viernes\"]\n",
        "\n",
        "colores_primarios = [\"Rojo\", \"Amarillo\", \"Azul\"]\n",
        "\n",
        "precios = [205.30, 107.18, 25, 450, 310.89, 170.23, 340]\n",
        "\n",
        "# Acceso a los elementos de una lista\n",
        "\n",
        "print(dias_laborales[0])\n",
        "print(dias_laborales[-1])\n",
        "print(dias_laborales[-5])\n",
        "\n",
        "# Operador +\n",
        "\n",
        "fin_semana = dias_laborales + [\"Sabado\", \"Domingo\"]\n",
        "semana = dias_laborales + fin_semana\n",
        "print(semana)\n",
        "\n",
        "# Operador *\n",
        "colores_repetidos = colores_primarios * 3\n",
        "print(colores_repetidos)\n",
        "\n"
      ],
      "metadata": {
        "colab": {
          "base_uri": "https://localhost:8080/"
        },
        "collapsed": true,
        "id": "axkbmGsRTYIF",
        "outputId": "6fa207f6-d01c-4ac1-b182-4c0c6e508e97"
      },
      "execution_count": 8,
      "outputs": [
        {
          "output_type": "stream",
          "name": "stdout",
          "text": [
            "Lunes\n",
            "Viernes\n",
            "Lunes\n",
            "['Lunes', 'Martes', 'Miercoles', 'Jueves', 'Viernes', 'Lunes', 'Martes', 'Miercoles', 'Jueves', 'Viernes', 'Sabado', 'Domingo']\n",
            "['Rojo', 'Amarillo', 'Azul', 'Rojo', 'Amarillo', 'Azul', 'Rojo', 'Amarillo', 'Azul']\n"
          ]
        }
      ]
    },
    {
      "cell_type": "markdown",
      "source": [
        "# Funciones asociadas a las listas"
      ],
      "metadata": {
        "id": "8cxwxexuU9w1"
      }
    },
    {
      "cell_type": "code",
      "source": [
        "dias_laborales = [\"Lunes\", \"Martes\", \"Miercoles\", \"Jueves\", \"Viernes\"]\n",
        "\n",
        "colores_primarios = [\"Rojo\", \"Amarillo\", \"Azul\"]\n",
        "\n",
        "precios = [205.30, 107.18, 25, 450, 310.89, 170.23, 340]\n",
        "\n",
        "pares = list(range(0,30,2))\n",
        "\n",
        "impares = list(range(29,0,-2))\n",
        "\n",
        "colores_repetidos = colores_primarios * 3\n",
        "\n",
        "# append(): agrega un elemento al final de la lista\n",
        "dias_laborales.append(\"Sabado\")\n",
        "print(dias_laborales)\n",
        "\n",
        "# Len(): total de elementos de la lista\n",
        "print('Total de precios =' , len(precios))\n",
        "\n",
        "# count(): cuenta el numero de veces que aparece un elemento en la lista\n",
        "print(f\"El lunes aparece {dias_laborales.count('Lunes')} vez(veces)\")\n",
        "\n",
        "# insert (): agrega en la posicion indicada por el indice el nuevo valor,desplazando los demas elementos hacia la derecha. Si el indice es mayor al tamaño de la lista , lo agrega al final\n",
        "colores_primarios.insert(2,\"Verde\")\n",
        "print(colores_primarios)\n",
        "\n",
        "# remove(): quita el elemento de la lista. Si el elemento no está lanza una exepcion.\n",
        "dias_laborales.remove(\"Sabado\")\n",
        "print(dias_laborales)\n",
        "\n",
        "# sort(): ordena la lista de menor a mayor\n",
        "precios.sort()\n",
        "print(precios)\n",
        "precios.sort(reverse=True)\n",
        "print(precios)\n",
        "\n",
        "# reverse():\n",
        "\n",
        "# pop():\n",
        "\n",
        "# clear():\n",
        "\n",
        "# del\n"
      ],
      "metadata": {
        "colab": {
          "base_uri": "https://localhost:8080/"
        },
        "collapsed": true,
        "id": "JL7Y70I6VCqV",
        "outputId": "2c7841eb-2246-4518-9d21-77439b43fc9c"
      },
      "execution_count": 9,
      "outputs": [
        {
          "output_type": "stream",
          "name": "stdout",
          "text": [
            "['Lunes', 'Martes', 'Miercoles', 'Jueves', 'Viernes', 'Sabado']\n",
            "Total de precios = 7\n",
            "El lunes aparece 1 vez(veces)\n",
            "['Rojo', 'Amarillo', 'Verde', 'Azul']\n",
            "['Lunes', 'Martes', 'Miercoles', 'Jueves', 'Viernes']\n",
            "[25, 107.18, 170.23, 205.3, 310.89, 340, 450]\n",
            "[450, 340, 310.89, 205.3, 170.23, 107.18, 25]\n"
          ]
        }
      ]
    },
    {
      "cell_type": "markdown",
      "source": [
        "## Partición o división de listas (slicing o rebanadas)\n",
        "- Se pueden generar sublistas a partir de una lista por medio de la participación (división) o slicing.\n",
        "- Para obtener una sublista se usa la sintaxis:`sublista -lista(inicio:fin:n)`"
      ],
      "metadata": {
        "id": "vN31vQ0zgUNY"
      }
    },
    {
      "cell_type": "code",
      "source": [
        "from re import sub\n",
        "# se crea una lista de números enteros\n",
        "lista_1 = (1,2,3,4,5,6)\n",
        "\n",
        "# sublista con los elementos de las posiciones 0 a la 2 inclusive\n",
        "sublista_1 = lista_1[0:3]\n",
        "print(sublista_1)\n",
        "\n",
        "# sublista con los elementos de las posiciones 0 a la 3 inclusive\n",
        "sublista_2 = lista_1[:4]\n",
        "print(sublista_2)\n",
        "\n",
        "# sublista con los elementos 3 a la 5 inclusive\n",
        "sublista_3 = lista_1[3:]\n",
        "print(sublista_3)\n",
        "\n",
        "# sublista con los elementos desde el inicio hasta el final, con saltos de a 2\n",
        "sublista_4 = lista_1[::2]\n",
        "print(sublista_4)"
      ],
      "metadata": {
        "id": "UyotSW6whWdT"
      },
      "execution_count": null,
      "outputs": []
    }
  ]
}